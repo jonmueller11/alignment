{
 "cells": [
  {
   "cell_type": "code",
   "execution_count": 1,
   "id": "maritime-indianapolis",
   "metadata": {},
   "outputs": [],
   "source": [
    "from glob_alg import GlobalAlignment  # importing the modul"
   ]
  },
  {
   "cell_type": "markdown",
   "id": "reserved-republican",
   "metadata": {},
   "source": [
    "To initialize a GlobalAlignment object you need two strings representing the sequence and a dictionary.<br>\n",
    "The dictionary is used to store the scores for:<br>\n",
    "'gap' : the gap penalty<br>\n",
    "False : value for mismatches<br>\n",
    "True  : value for matches<br>"
   ]
  },
  {
   "cell_type": "code",
   "execution_count": 2,
   "id": "ecological-attempt",
   "metadata": {},
   "outputs": [],
   "source": [
    "sco = {'gap': 0, True: 1, False: 0}\n",
    "alignment = GlobalAlignment('ACGTCATGCCCTGATGGT', 'AGTCCGGGCGCTTTAGCTAGC', sco)"
   ]
  },
  {
   "cell_type": "markdown",
   "id": "extraordinary-subsection",
   "metadata": {},
   "source": [
    "The dictionary {'gap': 0, True: 1, False: 0} should give us the longest common sequence.<br>\n",
    "To create the programming table run:"
   ]
  },
  {
   "cell_type": "code",
   "execution_count": 3,
   "id": "domestic-break",
   "metadata": {},
   "outputs": [],
   "source": [
    "alignment.make_matrix()"
   ]
  },
  {
   "cell_type": "markdown",
   "id": "reflected-zoning",
   "metadata": {},
   "source": [
    "Then run compute() and get_aligment() to get the result:"
   ]
  },
  {
   "cell_type": "code",
   "execution_count": 4,
   "id": "settled-geography",
   "metadata": {},
   "outputs": [
    {
     "name": "stdout",
     "output_type": "stream",
     "text": [
      "ACGTC_ATG__C_C_____CTGATG_GT\n",
      "A_GTCC__GGGCGCTTTAGCT_A_GC__\n"
     ]
    }
   ],
   "source": [
    "alignment.compute()\n",
    "print(alignment.get_alignment())"
   ]
  },
  {
   "cell_type": "markdown",
   "id": "asian-adrian",
   "metadata": {},
   "source": [
    "Here is an example with a different scoring dictionary:"
   ]
  },
  {
   "cell_type": "code",
   "execution_count": 5,
   "id": "lesser-newark",
   "metadata": {},
   "outputs": [
    {
     "name": "stdout",
     "output_type": "stream",
     "text": [
      "ACGTCATGCC_CTG_A__TGGT\n",
      "A_GTCCGGGCGCTTTAGCTAGC\n"
     ]
    }
   ],
   "source": [
    "sco = {'gap': -1, True: 1, False: -1}\n",
    "ali = GlobalAlignment('ACGTCATGCCCTGATGGT', 'AGTCCGGGCGCTTTAGCTAGC', sco)\n",
    "ali.make_matrix()\n",
    "ali.compute()\n",
    "print(ali.get_alignment())"
   ]
  }
 ],
 "metadata": {
  "kernelspec": {
   "display_name": "Python 3",
   "language": "python",
   "name": "python3"
  },
  "language_info": {
   "codemirror_mode": {
    "name": "ipython",
    "version": 3
   },
   "file_extension": ".py",
   "mimetype": "text/x-python",
   "name": "python",
   "nbconvert_exporter": "python",
   "pygments_lexer": "ipython3",
   "version": "3.9.0"
  }
 },
 "nbformat": 4,
 "nbformat_minor": 5
}
